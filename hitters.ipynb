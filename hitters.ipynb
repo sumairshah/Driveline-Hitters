{
 "cells": [
  {
   "cell_type": "code",
   "execution_count": 167,
   "metadata": {},
   "outputs": [
    {
     "data": {
      "text/html": [
       "<script type=\"text/javascript\">window.PlotlyConfig = {MathJaxConfig: 'local'};</script><script type=\"text/javascript\">if (window.MathJax) {MathJax.Hub.Config({SVG: {font: \"STIX-Web\"}});}</script><script>requirejs.config({paths: { 'plotly': ['https://cdn.plot.ly/plotly-latest.min']},});if(!window._Plotly) {require(['plotly'],function(plotly) {window._Plotly=plotly;});}</script>"
      ],
      "text/vnd.plotly.v1+html": [
       "<script type=\"text/javascript\">window.PlotlyConfig = {MathJaxConfig: 'local'};</script><script type=\"text/javascript\">if (window.MathJax) {MathJax.Hub.Config({SVG: {font: \"STIX-Web\"}});}</script><script>requirejs.config({paths: { 'plotly': ['https://cdn.plot.ly/plotly-latest.min']},});if(!window._Plotly) {require(['plotly'],function(plotly) {window._Plotly=plotly;});}</script>"
      ]
     },
     "metadata": {},
     "output_type": "display_data"
    }
   ],
   "source": [
    "import pandas as pd\n",
    "import numpy as np\n",
    "import matplotlib.pyplot as plt\n",
    "%matplotlib inline\n",
    "\n",
    "import imaplib\n",
    "import email\n",
    "import os\n",
    "import poplib\n",
    "import getpass\n",
    "\n",
    "import plotly\n",
    "import plotly.plotly as py\n",
    "from plotly import tools\n",
    "from plotly.tools import FigureFactory as FF\n",
    "import plotly.graph_objs as go\n",
    "plotly.offline.init_notebook_mode(connected=True)\n",
    "\n",
    "from os import listdir\n",
    "from os.path import isfile, join\n",
    " \n",
    "\n",
    "\n",
    "pd.set_option('display.max_columns',1000)\n",
    "pd.set_option('display.max_rows',1000)"
   ]
  },
  {
   "cell_type": "code",
   "execution_count": 168,
   "metadata": {},
   "outputs": [],
   "source": [
    "#read from xl csv...\n",
    "df = pd.read_excel('CaraHittahV2.xlsx', sheet_name=None, ignore_index = False, sort=True)\n",
    "cdf = pd.concat(df.values())"
   ]
  },
  {
   "cell_type": "code",
   "execution_count": 169,
   "metadata": {},
   "outputs": [],
   "source": [
    "#the CSV is a bit of a mess - we take first row as the header, and start from row 2\n",
    "#cdf.head()\n",
    "cdf.columns = cdf.iloc[1, :]\n",
    "cdf = cdf.iloc[2:, :]"
   ]
  },
  {
   "cell_type": "code",
   "execution_count": 170,
   "metadata": {},
   "outputs": [],
   "source": [
    "#drop some columns - interesting way to do it by subsetting columns\n",
    "\n",
    "hx = cdf[[                 'AB',                'Date',            \n",
    "         'Strike Zone Width',                  'BV',               'POI X',\n",
    "              'Bat Material',     'Impact Momentum',        'Horiz. Angle',\n",
    "                                         'Dist',             'P. Type',\n",
    "        'Strike Zone Bottom',                 'Pts',                'Velo',\n",
    "         'Vertical Distance',               'Pitch',                'User',\n",
    "                     'POI Y',                 'Res',   'Trigger to Impact',\n",
    "                         \n",
    "                         'Horizontal Distance',     'Strike Zone Top',\n",
    "                'Hand Speed',                  'LA',          'Time Stamp',\n",
    "               'Strike Zone',                                  'POI Z',\n",
    "                        'AA',                'Type',  'Pitch Angle', \n",
    "          'Batting', 'Level', 'Barrel'  ]]\n"
   ]
  },
  {
   "cell_type": "code",
   "execution_count": 171,
   "metadata": {},
   "outputs": [],
   "source": [
    "def removefloats(row):\n",
    "    if type (row['User']) == float:\n",
    "        return \"dummy\"\n",
    "    else:\n",
    "        return(row['User'])"
   ]
  },
  {
   "cell_type": "code",
   "execution_count": 172,
   "metadata": {},
   "outputs": [],
   "source": [
    "## We are not using thing function ... it has a small problem \n",
    "#the function reads in an XLS file with multiple sheets, and returns a dateframe\n",
    "#function doesnt do much validation that each sheet uses consistent format\n",
    "#see helper documents for format of each sheet\n",
    "def readdata(filename):\n",
    "    xlsx = pd.ExcelFile(filename)\n",
    "\n",
    "#initialize hitters_sheet\n",
    "    hitters_sheets = []\n",
    "    nsheet = xlsx.parse(xlsx.sheet_names[0])\n",
    "    cols = nsheet.iloc[1, :]\n",
    "    print(nsheet.shape, len(cols))\n",
    "    nsheet.columns = cols\n",
    "    nsheet = nsheet.iloc[2:,]\n",
    "    hitters_sheets.append(nsheet)\n",
    "\n",
    "    for isheet in range(1, len(xlsx.sheet_names)):\n",
    "        nsheet = xlsx.parse(xlsx.sheet_names[isheet])\n",
    "        if nsheet.shape[0] < 2:\n",
    "            continue\n",
    "        #print(nsheet.shape)\n",
    "        nsheet = nsheet.iloc[2:, 0:53]\n",
    "        #nsheet = nsheet.iloc[1:,]\n",
    "        nsheet.columns = cols\n",
    "        hitters_sheets.append(nsheet)\n",
    "    \n",
    "    hitters = pd.concat(hitters_sheets)\n",
    "    return(hitters)\n"
   ]
  },
  {
   "cell_type": "code",
   "execution_count": 173,
   "metadata": {},
   "outputs": [],
   "source": [
    "hx2 = hx.rename(index=str,columns={'POI X':'X','POI Y':'Y'}) \n",
    "hx2['User'] = hx2.apply(removefloats,axis=1)\n",
    "hx2 = hx2[(hx2.User!='User') & (hx2.User != 'dummy')]\n",
    "hx2 = hx2[hx2.User.notna()]"
   ]
  },
  {
   "cell_type": "code",
   "execution_count": 174,
   "metadata": {},
   "outputs": [
    {
     "data": {
      "text/plain": [
       "(12163, 32)"
      ]
     },
     "execution_count": 174,
     "metadata": {},
     "output_type": "execute_result"
    }
   ],
   "source": [
    "hx2.shape"
   ]
  },
  {
   "cell_type": "code",
   "execution_count": 175,
   "metadata": {},
   "outputs": [
    {
     "data": {
      "text/plain": [
       "0.13059604934011904"
      ]
     },
     "execution_count": 175,
     "metadata": {},
     "output_type": "execute_result"
    }
   ],
   "source": [
    "Barrel = hx2.Barrel.dropna()\n",
    "Barrel.count()\n",
    "Barrel.sum()/Barrel.count()"
   ]
  },
  {
   "cell_type": "code",
   "execution_count": 176,
   "metadata": {},
   "outputs": [],
   "source": [
    "#return average, max, min velocity by strikezone\n",
    "def velobyzone(df, zone):\n",
    "    dfx = df[df['Strike Zone']== zone]\n",
    "    s = dfx.Velo.sum()\n",
    "    c = dfx.Velo.count()\n",
    "    a = round(s/c,1)\n",
    "    m = round(dfx.Velo.max(),1)\n",
    "    n = round(dfx.Velo.min(),1)\n",
    "    return a, m\n",
    "    "
   ]
  },
  {
   "cell_type": "code",
   "execution_count": 177,
   "metadata": {},
   "outputs": [],
   "source": [
    "#function returns flybal, ground ball, line drive % by strike zone grid\n",
    "\n",
    "def hittingbyzone(df, zone):\n",
    "    \n",
    "    if zone != 0:\n",
    "        dfx = df[df['Strike Zone']== zone]\n",
    "    else:\n",
    "        #overall statistics\n",
    "        dfx = df\n",
    "    \n",
    "    if dfx.shape[0] == 0:\n",
    "        gb = 0.0\n",
    "        ld = 0.0\n",
    "        fb = 0.0\n",
    "        a = 0.0\n",
    "        m = 0.0 \n",
    "        tup = (fb, gb, ld, a, m)\n",
    "        return tup\n",
    "    \n",
    "    s = dfx.Velo.sum()\n",
    "    c = dfx.Velo.count()\n",
    "    a = round(s/c,1)\n",
    "    m = round(dfx.Velo.max(),1)\n",
    "    #n = round(dfx.Velo.min(),1)\n",
    "    \n",
    "    dfx = dfx.groupby(['Type']).count()\n",
    "    y = dfx.shape\n",
    "    s = dfx.iloc[:, 0].sum()\n",
    "    if y[0] < 2:\n",
    "        gb = 0.0\n",
    "    else:\n",
    "        gb = round(dfx.iloc[1,0]/s, 1)\n",
    "    if y[0] < 3:\n",
    "        ld = 0.0\n",
    "    else:             \n",
    "        ld = round(dfx.iloc[2,0]/s, 1)\n",
    "    fb = round(dfx.iloc[0,0]/s, 1)\n",
    "    \n",
    "    tup = (fb, gb, ld, a, m)\n",
    "    return tup"
   ]
  },
  {
   "cell_type": "code",
   "execution_count": 178,
   "metadata": {},
   "outputs": [],
   "source": [
    "maxdutto = hx2[hx2.User == 'Max Dutto']\n",
    "#maxdutto.groupby('Strike Zone').Velo.agg(my_mean)"
   ]
  },
  {
   "cell_type": "code",
   "execution_count": 179,
   "metadata": {},
   "outputs": [
    {
     "data": {
      "text/plain": [
       "(0.7, 0.3, 0.0, 80.7, 85.8)"
      ]
     },
     "execution_count": 179,
     "metadata": {},
     "output_type": "execute_result"
    }
   ],
   "source": [
    "hittingbyzone(maxdutto,2)"
   ]
  },
  {
   "cell_type": "code",
   "execution_count": 192,
   "metadata": {},
   "outputs": [],
   "source": [
    "def gethitterstats(df, hittername):\n",
    "    \n",
    "    alist = []\n",
    "    cols  = ['Fly Balls', 'Ground Balls', 'Line Drive', 'AvgExitVelo', 'Max Exit Velo']\n",
    "    idx = ['Zone 1', 'Zone 2', 'Zone 3', 'Zone 4', 'Zone 5', 'Zone 6', 'Zone 7', 'Zone 8', 'Zone 9', 'Overall']\n",
    "    if hittername != 'All':\n",
    "        dfx = df[df.User == hittername]\n",
    "    else:\n",
    "        dfx = df\n",
    "    \n",
    "    for i in range(1, 10):\n",
    "        tup = hittingbyzone(dfx, i)\n",
    "        alist.append(tup)\n",
    "        \n",
    "    tup = hittingbyzone(dfx,0)\n",
    "    alist.append(tup)\n",
    "        \n",
    "    #print (alist)\n",
    "    \n",
    "    hstats = pd.DataFrame(alist, index = idx, columns = cols)\n",
    "    return(hstats)"
   ]
  },
  {
   "cell_type": "code",
   "execution_count": 193,
   "metadata": {},
   "outputs": [
    {
     "data": {
      "text/html": [
       "<div>\n",
       "<style scoped>\n",
       "    .dataframe tbody tr th:only-of-type {\n",
       "        vertical-align: middle;\n",
       "    }\n",
       "\n",
       "    .dataframe tbody tr th {\n",
       "        vertical-align: top;\n",
       "    }\n",
       "\n",
       "    .dataframe thead th {\n",
       "        text-align: right;\n",
       "    }\n",
       "</style>\n",
       "<table border=\"1\" class=\"dataframe\">\n",
       "  <thead>\n",
       "    <tr style=\"text-align: right;\">\n",
       "      <th></th>\n",
       "      <th>Fly Balls</th>\n",
       "      <th>Ground Balls</th>\n",
       "      <th>Line Drive</th>\n",
       "      <th>AvgExitVelo</th>\n",
       "      <th>Max Exit Velo</th>\n",
       "    </tr>\n",
       "  </thead>\n",
       "  <tbody>\n",
       "    <tr>\n",
       "      <th>Zone 1</th>\n",
       "      <td>0.0</td>\n",
       "      <td>0.0</td>\n",
       "      <td>0.0</td>\n",
       "      <td>0.0</td>\n",
       "      <td>0.0</td>\n",
       "    </tr>\n",
       "    <tr>\n",
       "      <th>Zone 2</th>\n",
       "      <td>0.7</td>\n",
       "      <td>0.3</td>\n",
       "      <td>0.0</td>\n",
       "      <td>80.7</td>\n",
       "      <td>85.8</td>\n",
       "    </tr>\n",
       "    <tr>\n",
       "      <th>Zone 3</th>\n",
       "      <td>0.0</td>\n",
       "      <td>0.0</td>\n",
       "      <td>0.0</td>\n",
       "      <td>0.0</td>\n",
       "      <td>0.0</td>\n",
       "    </tr>\n",
       "    <tr>\n",
       "      <th>Zone 4</th>\n",
       "      <td>0.6</td>\n",
       "      <td>0.2</td>\n",
       "      <td>0.2</td>\n",
       "      <td>84.4</td>\n",
       "      <td>93.7</td>\n",
       "    </tr>\n",
       "    <tr>\n",
       "      <th>Zone 5</th>\n",
       "      <td>0.6</td>\n",
       "      <td>0.0</td>\n",
       "      <td>0.4</td>\n",
       "      <td>79.4</td>\n",
       "      <td>96.6</td>\n",
       "    </tr>\n",
       "    <tr>\n",
       "      <th>Zone 6</th>\n",
       "      <td>0.4</td>\n",
       "      <td>0.4</td>\n",
       "      <td>0.1</td>\n",
       "      <td>88.1</td>\n",
       "      <td>95.4</td>\n",
       "    </tr>\n",
       "    <tr>\n",
       "      <th>Zone 7</th>\n",
       "      <td>0.4</td>\n",
       "      <td>0.3</td>\n",
       "      <td>0.3</td>\n",
       "      <td>86.7</td>\n",
       "      <td>98.8</td>\n",
       "    </tr>\n",
       "    <tr>\n",
       "      <th>Zone 8</th>\n",
       "      <td>0.2</td>\n",
       "      <td>0.2</td>\n",
       "      <td>0.5</td>\n",
       "      <td>87.4</td>\n",
       "      <td>98.6</td>\n",
       "    </tr>\n",
       "    <tr>\n",
       "      <th>Zone 9</th>\n",
       "      <td>0.3</td>\n",
       "      <td>0.1</td>\n",
       "      <td>0.6</td>\n",
       "      <td>86.1</td>\n",
       "      <td>96.9</td>\n",
       "    </tr>\n",
       "    <tr>\n",
       "      <th>Overall</th>\n",
       "      <td>0.4</td>\n",
       "      <td>0.2</td>\n",
       "      <td>0.4</td>\n",
       "      <td>84.1</td>\n",
       "      <td>98.8</td>\n",
       "    </tr>\n",
       "  </tbody>\n",
       "</table>\n",
       "</div>"
      ],
      "text/plain": [
       "         Fly Balls  Ground Balls  Line Drive  AvgExitVelo  Max Exit Velo\n",
       "Zone 1         0.0           0.0         0.0          0.0            0.0\n",
       "Zone 2         0.7           0.3         0.0         80.7           85.8\n",
       "Zone 3         0.0           0.0         0.0          0.0            0.0\n",
       "Zone 4         0.6           0.2         0.2         84.4           93.7\n",
       "Zone 5         0.6           0.0         0.4         79.4           96.6\n",
       "Zone 6         0.4           0.4         0.1         88.1           95.4\n",
       "Zone 7         0.4           0.3         0.3         86.7           98.8\n",
       "Zone 8         0.2           0.2         0.5         87.4           98.6\n",
       "Zone 9         0.3           0.1         0.6         86.1           96.9\n",
       "Overall        0.4           0.2         0.4         84.1           98.8"
      ]
     },
     "execution_count": 193,
     "metadata": {},
     "output_type": "execute_result"
    }
   ],
   "source": [
    "hstats = gethitterstats(hx2, 'Max Dutto')\n",
    "hstats"
   ]
  },
  {
   "cell_type": "code",
   "execution_count": 182,
   "metadata": {},
   "outputs": [],
   "source": [
    "def homeplate():\n",
    "    plt.figure(figsize=(8,12),dpi=80)\n",
    "    plt.xlim(-18,18)\n",
    "    plt.ylim(0,60)\n",
    "\n",
    "    xmin = -8.5\n",
    "    xmax = 8.5\n",
    "    ymin = 23.1\n",
    "    ymax = 44.6\n",
    "    deltax = (xmax-xmin)/3\n",
    "    deltay = (ymax-ymin)/3\n",
    "\n",
    "    xtick = [xmin, xmin+deltax, xmin+(2*deltax), xmax]\n",
    "    ytick = [ymin, ymin+deltay, ymin+(2*deltay), ymax]\n",
    "\n",
    "    X1 = np.linspace(xmin,xmax,4)\n",
    "    Y1 = np.linspace(ymin,ymax,4)\n",
    "    Y2 = np.linspace(ymin,ymin,4)\n",
    "    X2 = np.linspace(xmin,xmin,4)\n",
    "    X3 = np.linspace(xmax,xmax,4)\n",
    "    Y3 = np.linspace(ymax,ymax,4)\n",
    "\n",
    "\n",
    "    X4 = np.linspace(xtick[1],xtick[1],4)\n",
    "    X5 = np.linspace(xtick[2],xtick[2],4)\n",
    "    Y4 = np.linspace(ytick[1],ytick[1],4)\n",
    "    Y5 = np.linspace(ytick[2],ytick[2],4)\n",
    "\n",
    "\n",
    "    plt.plot(X1,Y2,c='black')\n",
    "    plt.plot(X2,Y1,c='black')\n",
    "    plt.plot(X1,Y3,c='black')\n",
    "    plt.plot(X3,Y1,c='black')\n",
    "\n",
    "\n",
    "    plt.plot(X4,Y1,c='black',linestyle= '--')\n",
    "    plt.plot(X5,Y1,c='black',linestyle= '--')\n",
    "    plt.plot(X1,Y4,c='black',linestyle= '--')\n",
    "    plt.plot(X1,Y5,c='black',linestyle= '--')\n",
    "    deltax2 = deltax * 0.6\n",
    "    deltay2 = deltay * 0.6\n",
    "    x0 = xmin - deltax2\n",
    "    x6 = xmax + deltax2\n",
    "    y0 = ymin - deltay2\n",
    "    y6 = ymax + deltay2\n",
    "    yhalf = (ymax+ymin) * 0.5\n",
    "    xhalf = (xmax + xmin) * 0.5\n",
    "    \n",
    "    X0 = np.linspace(x0, x6, 4)\n",
    "    X6 = np.linspace(x0, x0, 4)\n",
    "    X7 = np.linspace(x6, x6, 4)\n",
    "    Y0 = np.linspace(y0, y6, 4)\n",
    "    Y6 = np.linspace(y0, y0, 4)\n",
    "    Y7 = np.linspace(y6, y6, 4)\n",
    "    \n",
    "    X10 = np.linspace(x0, xmin, 4)\n",
    "    X11 = np.linspace(xmax, x6, 4)\n",
    "    X12 = np.linspace(xhalf, xhalf, 4)\n",
    "    Y10 = np.linspace(y0, ymin, 4)\n",
    "    Y11 = np.linspace(ymax, y6, 4)\n",
    "    Y12 = np.linspace(yhalf, yhalf, 4)\n",
    "    \n",
    "    plt.plot(X0, Y6, c='red')\n",
    "    plt.plot(X0, Y7, c='red')\n",
    "    plt.plot(X6, Y0, c='red')\n",
    "    plt.plot(X7, Y0, c='red')\n",
    "    \n",
    "    plt.plot(X10, Y12, c='red')\n",
    "    plt.plot(X11, Y12, c='red')\n",
    "    plt.plot(X12, Y10, c='red')\n",
    "    plt.plot(X12, Y11, c='red')\n",
    "\n"
   ]
  },
  {
   "cell_type": "code",
   "execution_count": 183,
   "metadata": {},
   "outputs": [],
   "source": [
    "def analyze(hx2,username,date1,date2,v1,v2):\n",
    "    \n",
    "    #subset by player .. \n",
    "    hnew = hx2[hx2.User == username]\n",
    "    \n",
    "    Vmax = 90\n",
    "    Vlow = 83\n",
    "   \n",
    "    LAopt1 = 10\n",
    "    LAopt2 = 30\n",
    "    LAbad = 0\n",
    "    \n",
    "    \n",
    "    homeplate()\n",
    "    #plt.scatter(hnew.X,hnew.Y)\n",
    "    #h1 = hnew[(hnew.LA<5)]\n",
    "    h0  = hnew[(hnew.LA>10)&(hnew.LA < 30)]\n",
    "    h00 = h0[h0.Velo >= 90]\n",
    "    h01 = h0[(h0.Velo <90) & (h0.Velo >83)]\n",
    "    h02 = h0[h0.Velo <= 83]\n",
    "    \n",
    "    h1 = hnew[(hnew.LA > 0) & (hnew.LA <10)]\n",
    "    h10 = h1[h1.Velo>=90]\n",
    "    h11 = h1[(h1.Velo>83) & (h1.Velo <90)]\n",
    "    h12 = h1[h1.Velo< 83]\n",
    "    \n",
    "    h2 = hnew[hnew.LA < 0]\n",
    "    h20 = h2[h2.Velo >= 90]\n",
    "    h21 = h2[(h2.Velo > 83) & (h2.Velo <90)]\n",
    "    h22 = h2[h2.Velo <= 83]\n",
    "    \n",
    "    h3 = hnew[hnew.LA > 30]\n",
    "    h30 = h3[h3.Velo >= 90]\n",
    "    h31 = h3[(h3.Velo > 83) & (h3.Velo <90)]\n",
    "    h32 = h3[h3.Velo <= 83]\n",
    "    \n",
    "    #x = hnew.X\n",
    "    #y=hnew.Y\n",
    "    plt.scatter(h00.X,h00.Y, c='darkgreen',s=30, label='EV>90, LA 10-30')\n",
    "    plt.scatter(h01.X, h01.Y, c ='green',s=30,marker='*', label='EV 83-90, LA 10-30')\n",
    "    plt.scatter(h02.X, h02.Y, c='limegreen', s=30, marker='v', label='EV<83, LA10-30')\n",
    "     \n",
    "    plt.scatter(h10.X,h10.Y, c='darkblue',s=30, label='EV>90, LA 0-10')\n",
    "    plt.scatter(h11.X, h11.Y, c ='mediumblue',s=30,marker='*', label='EV 83-90, LA 0-10')\n",
    "    plt.scatter(h12.X, h12.Y, c='blue', s=30, marker='v', label='EV<83, LA 0=10') \n",
    "    \n",
    "    plt.scatter(h20.X,h20.Y, c='red',s=30, label='EV>90, LA <0')\n",
    "    plt.scatter(h21.X, h21.Y, c ='darkred',s=30,marker='*', label='EV 83-90, LA <0')\n",
    "    plt.scatter(h22.X, h22.Y, c='orangered', s=30, marker='v', label='EV<83, LA <0') \n",
    "    \n",
    "    plt.scatter(h30.X,h30.Y, c='magenta',s=30, label='EV>90, LA >30')\n",
    "    plt.scatter(h31.X, h31.Y, c ='fuchsia',s=30,marker='*', label='EV 83-90, LA >30')\n",
    "    plt.scatter(h32.X, h32.Y, c='orchid', s=30, marker='v', label='EV<83, LA >30')\n",
    "    \n",
    "    plt.xlabel('Horizontal Location' )\n",
    "    plt.ylabel('Vertical Location')\n",
    "    plt.title(username)\n",
    "    \n",
    "    #return hnew\n",
    "    plt.legend()\n",
    "    plt.show()\n",
    "    \n",
    "    hstats = gethitterstats(hnew, 'All')\n",
    "    return hstats"
   ]
  },
  {
   "cell_type": "code",
   "execution_count": 184,
   "metadata": {},
   "outputs": [],
   "source": [
    "def doheatmaps(hstats):\n",
    "    Z = hstats.loc[:, 'AvgExitVelo']\n",
    "    Z = Z.tolist()\n",
    "    Z = [Z[0:3], Z[3:6], Z[6:9]]\n",
    "    LDz = hstats.loc[:, 'Line Drive']\n",
    "    LD = LDz.tolist()\n",
    "    LD = [LD[0:3], LD[3:6], LD[6:9]]\n",
    "    hitterheatmap(Z,'Average Exit Velocity Heatmap')\n",
    "    hitterheatmap(LD, 'Line Drive % Heatmap')"
   ]
  },
  {
   "cell_type": "code",
   "execution_count": 185,
   "metadata": {},
   "outputs": [],
   "source": [
    "def hitterheatmap(Z, labelstring):\n",
    "#fig = FF.create_annotated_heatmap(d, colorscale='Viridis')\n",
    "\n",
    "#plotly.figure_factory.create_annotated_heatmap(d) \n",
    "#py.iplot(fig, filename='numpy-reshape-1')\n",
    "\n",
    "    X = ['Left', 'Mid', 'Right']\n",
    "    Y = ['Bottom', 'Mid', 'Top']\n",
    "\n",
    "    trace = go.Heatmap(z=Z,x=X,y=Y)\n",
    "    #Q = [ [12,14,8], [21,33,44],[8,7,11] ]\n",
    "    #trace2 = go.Heatmap(z=Q, x=X, y=Y)\n",
    "\n",
    "    #fig = tools.make_subplots(rows=1, cols=2)\n",
    "    #fig.append_trace(trace1, 1, 1)\n",
    "    #fig.append_trace(trace2, 1, 2)\n",
    "    data=[trace]\n",
    "    layout = go.Layout(\n",
    "        autosize=False,\n",
    "        title=labelstring,\n",
    "        width=480,\n",
    "        height=600,\n",
    "        margin=go.layout.Margin(\n",
    "            l=75,\n",
    "            r=50,\n",
    "            b=100,\n",
    "            t=100,\n",
    "            pad=4\n",
    "        ),\n",
    "        paper_bgcolor='#7f7f7f',\n",
    "        plot_bgcolor='#c7c7c7'\n",
    "    )\n",
    "    #fig['layout'].update(height=600, width=800, title='i <3 annotations and subplots')\n",
    "\n",
    "    fig = go.Figure(data = data, layout=layout)\n",
    "    plotly.offline.iplot(fig) \n"
   ]
  },
  {
   "cell_type": "code",
   "execution_count": 186,
   "metadata": {
    "scrolled": false
   },
   "outputs": [],
   "source": [
    "def HitterSummary (hx2,hitter,date1,date2, v1, v2):\n",
    "    hstats = analyze(hx2,hitter, date1, date2,v1, v2)\n",
    "    \n",
    "    doheatmaps(hstats)\n",
    "    \n",
    "    return (hstats)"
   ]
  },
  {
   "cell_type": "markdown",
   "metadata": {},
   "source": []
  },
  {
   "cell_type": "code",
   "execution_count": 187,
   "metadata": {
    "scrolled": false
   },
   "outputs": [
    {
     "data": {
      "image/png": "[encoded data removed]",
      "text/plain": [
       "<matplotlib.figure.Figure at 0x26d63450eb8>"
      ]
     },
     "metadata": {},
     "output_type": "display_data"
    },
    {
     "data": {
      "application/vnd.plotly.v1+json": {
       "config": {
        "linkText": "Export to plot.ly",
        "plotlyServerURL": "https://plot.ly",
        "showLink": false
       },
       "data": [
        {
         "type": "heatmap",
         "uid": "bdce58c6-39c5-4cda-b046-06e4f5a30ad0",
         "x": [
          "Left",
          "Mid",
          "Right"
         ],
         "y": [
          "Bottom",
          "Mid",
          "Top"
         ],
         "z": [
          [
           0,
           80.7,
           0
          ],
          [
           84.4,
           79.4,
           88.1
          ],
          [
           86.7,
           87.4,
           86.1
          ]
         ]
        }
       ],
       "layout": {
        "autosize": false,
        "height": 600,
        "margin": {
         "b": 100,
         "l": 75,
         "pad": 4,
         "r": 50,
         "t": 100
        },
        "paper_bgcolor": "#7f7f7f",
        "plot_bgcolor": "#c7c7c7",
        "title": {
         "text": "Average Exit Velocity Heatmap"
        },
        "width": 480
       }
      },
      "text/html": [
       "<div id=\"735d2384-4b7e-4f3c-bc9b-daa44e6fdfd8\" style=\"height: 600px; width: 480px;\" class=\"plotly-graph-div\"></div><script type=\"text/javascript\">require([\"plotly\"], function(Plotly) { window.PLOTLYENV=window.PLOTLYENV || {};window.PLOTLYENV.BASE_URL=\"https://plot.ly\";Plotly.newPlot(\"735d2384-4b7e-4f3c-bc9b-daa44e6fdfd8\", [{\"x\": [\"Left\", \"Mid\", \"Right\"], \"y\": [\"Bottom\", \"Mid\", \"Top\"], \"z\": [[0.0, 80.7, 0.0], [84.4, 79.4, 88.1], [86.7, 87.4, 86.1]], \"type\": \"heatmap\", \"uid\": \"bdce58c6-39c5-4cda-b046-06e4f5a30ad0\"}], {\"autosize\": false, \"height\": 600, \"margin\": {\"b\": 100, \"l\": 75, \"pad\": 4, \"r\": 50, \"t\": 100}, \"paper_bgcolor\": \"#7f7f7f\", \"plot_bgcolor\": \"#c7c7c7\", \"title\": {\"text\": \"Average Exit Velocity Heatmap\"}, \"width\": 480}, {\"showLink\": false, \"linkText\": \"Export to plot.ly\", \"plotlyServerURL\": \"https://plot.ly\"})});</script>"
      ],
      "text/vnd.plotly.v1+html": [
       "<div id=\"735d2384-4b7e-4f3c-bc9b-daa44e6fdfd8\" style=\"height: 600px; width: 480px;\" class=\"plotly-graph-div\"></div><script type=\"text/javascript\">require([\"plotly\"], function(Plotly) { window.PLOTLYENV=window.PLOTLYENV || {};window.PLOTLYENV.BASE_URL=\"https://plot.ly\";Plotly.newPlot(\"735d2384-4b7e-4f3c-bc9b-daa44e6fdfd8\", [{\"x\": [\"Left\", \"Mid\", \"Right\"], \"y\": [\"Bottom\", \"Mid\", \"Top\"], \"z\": [[0.0, 80.7, 0.0], [84.4, 79.4, 88.1], [86.7, 87.4, 86.1]], \"type\": \"heatmap\", \"uid\": \"bdce58c6-39c5-4cda-b046-06e4f5a30ad0\"}], {\"autosize\": false, \"height\": 600, \"margin\": {\"b\": 100, \"l\": 75, \"pad\": 4, \"r\": 50, \"t\": 100}, \"paper_bgcolor\": \"#7f7f7f\", \"plot_bgcolor\": \"#c7c7c7\", \"title\": {\"text\": \"Average Exit Velocity Heatmap\"}, \"width\": 480}, {\"showLink\": false, \"linkText\": \"Export to plot.ly\", \"plotlyServerURL\": \"https://plot.ly\"})});</script>"
      ]
     },
     "metadata": {},
     "output_type": "display_data"
    },
    {
     "data": {
      "application/vnd.plotly.v1+json": {
       "config": {
        "linkText": "Export to plot.ly",
        "plotlyServerURL": "https://plot.ly",
        "showLink": false
       },
       "data": [
        {
         "type": "heatmap",
         "uid": "4049bb17-3e70-4792-9717-ca39cd43eced",
         "x": [
          "Left",
          "Mid",
          "Right"
         ],
         "y": [
          "Bottom",
          "Mid",
          "Top"
         ],
         "z": [
          [
           0,
           0,
           0
          ],
          [
           0.2,
           0.4,
           0.1
          ],
          [
           0.3,
           0.5,
           0.6
          ]
         ]
        }
       ],
       "layout": {
        "autosize": false,
        "height": 600,
        "margin": {
         "b": 100,
         "l": 75,
         "pad": 4,
         "r": 50,
         "t": 100
        },
        "paper_bgcolor": "#7f7f7f",
        "plot_bgcolor": "#c7c7c7",
        "title": {
         "text": "Line Drive % Heatmap"
        },
        "width": 480
       }
      },
      "text/html": [
       "<div id=\"b8a708ed-01f6-4759-8a3e-45e08f15f879\" style=\"height: 600px; width: 480px;\" class=\"plotly-graph-div\"></div><script type=\"text/javascript\">require([\"plotly\"], function(Plotly) { window.PLOTLYENV=window.PLOTLYENV || {};window.PLOTLYENV.BASE_URL=\"https://plot.ly\";Plotly.newPlot(\"b8a708ed-01f6-4759-8a3e-45e08f15f879\", [{\"x\": [\"Left\", \"Mid\", \"Right\"], \"y\": [\"Bottom\", \"Mid\", \"Top\"], \"z\": [[0.0, 0.0, 0.0], [0.2, 0.4, 0.1], [0.3, 0.5, 0.6]], \"type\": \"heatmap\", \"uid\": \"4049bb17-3e70-4792-9717-ca39cd43eced\"}], {\"autosize\": false, \"height\": 600, \"margin\": {\"b\": 100, \"l\": 75, \"pad\": 4, \"r\": 50, \"t\": 100}, \"paper_bgcolor\": \"#7f7f7f\", \"plot_bgcolor\": \"#c7c7c7\", \"title\": {\"text\": \"Line Drive % Heatmap\"}, \"width\": 480}, {\"showLink\": false, \"linkText\": \"Export to plot.ly\", \"plotlyServerURL\": \"https://plot.ly\"})});</script>"
      ],
      "text/vnd.plotly.v1+html": [
       "<div id=\"b8a708ed-01f6-4759-8a3e-45e08f15f879\" style=\"height: 600px; width: 480px;\" class=\"plotly-graph-div\"></div><script type=\"text/javascript\">require([\"plotly\"], function(Plotly) { window.PLOTLYENV=window.PLOTLYENV || {};window.PLOTLYENV.BASE_URL=\"https://plot.ly\";Plotly.newPlot(\"b8a708ed-01f6-4759-8a3e-45e08f15f879\", [{\"x\": [\"Left\", \"Mid\", \"Right\"], \"y\": [\"Bottom\", \"Mid\", \"Top\"], \"z\": [[0.0, 0.0, 0.0], [0.2, 0.4, 0.1], [0.3, 0.5, 0.6]], \"type\": \"heatmap\", \"uid\": \"4049bb17-3e70-4792-9717-ca39cd43eced\"}], {\"autosize\": false, \"height\": 600, \"margin\": {\"b\": 100, \"l\": 75, \"pad\": 4, \"r\": 50, \"t\": 100}, \"paper_bgcolor\": \"#7f7f7f\", \"plot_bgcolor\": \"#c7c7c7\", \"title\": {\"text\": \"Line Drive % Heatmap\"}, \"width\": 480}, {\"showLink\": false, \"linkText\": \"Export to plot.ly\", \"plotlyServerURL\": \"https://plot.ly\"})});</script>"
      ]
     },
     "metadata": {},
     "output_type": "display_data"
    },
    {
     "data": {
      "text/html": [
       "<div>\n",
       "<style scoped>\n",
       "    .dataframe tbody tr th:only-of-type {\n",
       "        vertical-align: middle;\n",
       "    }\n",
       "\n",
       "    .dataframe tbody tr th {\n",
       "        vertical-align: top;\n",
       "    }\n",
       "\n",
       "    .dataframe thead th {\n",
       "        text-align: right;\n",
       "    }\n",
       "</style>\n",
       "<table border=\"1\" class=\"dataframe\">\n",
       "  <thead>\n",
       "    <tr style=\"text-align: right;\">\n",
       "      <th></th>\n",
       "      <th>Fly Balls</th>\n",
       "      <th>Ground Balls</th>\n",
       "      <th>Line Drive</th>\n",
       "      <th>AvgExitVelo</th>\n",
       "      <th>Max Exit Velo</th>\n",
       "    </tr>\n",
       "  </thead>\n",
       "  <tbody>\n",
       "    <tr>\n",
       "      <th>Z 1</th>\n",
       "      <td>0.0</td>\n",
       "      <td>0.0</td>\n",
       "      <td>0.0</td>\n",
       "      <td>0.0</td>\n",
       "      <td>0.0</td>\n",
       "    </tr>\n",
       "    <tr>\n",
       "      <th>Z 2</th>\n",
       "      <td>0.7</td>\n",
       "      <td>0.3</td>\n",
       "      <td>0.0</td>\n",
       "      <td>80.7</td>\n",
       "      <td>85.8</td>\n",
       "    </tr>\n",
       "    <tr>\n",
       "      <th>Z 3</th>\n",
       "      <td>0.0</td>\n",
       "      <td>0.0</td>\n",
       "      <td>0.0</td>\n",
       "      <td>0.0</td>\n",
       "      <td>0.0</td>\n",
       "    </tr>\n",
       "    <tr>\n",
       "      <th>Z 4</th>\n",
       "      <td>0.6</td>\n",
       "      <td>0.2</td>\n",
       "      <td>0.2</td>\n",
       "      <td>84.4</td>\n",
       "      <td>93.7</td>\n",
       "    </tr>\n",
       "    <tr>\n",
       "      <th>Z 5</th>\n",
       "      <td>0.6</td>\n",
       "      <td>0.0</td>\n",
       "      <td>0.4</td>\n",
       "      <td>79.4</td>\n",
       "      <td>96.6</td>\n",
       "    </tr>\n",
       "    <tr>\n",
       "      <th>Z 6</th>\n",
       "      <td>0.4</td>\n",
       "      <td>0.4</td>\n",
       "      <td>0.1</td>\n",
       "      <td>88.1</td>\n",
       "      <td>95.4</td>\n",
       "    </tr>\n",
       "    <tr>\n",
       "      <th>Z 7</th>\n",
       "      <td>0.4</td>\n",
       "      <td>0.3</td>\n",
       "      <td>0.3</td>\n",
       "      <td>86.7</td>\n",
       "      <td>98.8</td>\n",
       "    </tr>\n",
       "    <tr>\n",
       "      <th>Z 8</th>\n",
       "      <td>0.2</td>\n",
       "      <td>0.2</td>\n",
       "      <td>0.5</td>\n",
       "      <td>87.4</td>\n",
       "      <td>98.6</td>\n",
       "    </tr>\n",
       "    <tr>\n",
       "      <th>Z 9</th>\n",
       "      <td>0.3</td>\n",
       "      <td>0.1</td>\n",
       "      <td>0.6</td>\n",
       "      <td>86.1</td>\n",
       "      <td>96.9</td>\n",
       "    </tr>\n",
       "  </tbody>\n",
       "</table>\n",
       "</div>"
      ],
      "text/plain": [
       "     Fly Balls  Ground Balls  Line Drive  AvgExitVelo  Max Exit Velo\n",
       "Z 1        0.0           0.0         0.0          0.0            0.0\n",
       "Z 2        0.7           0.3         0.0         80.7           85.8\n",
       "Z 3        0.0           0.0         0.0          0.0            0.0\n",
       "Z 4        0.6           0.2         0.2         84.4           93.7\n",
       "Z 5        0.6           0.0         0.4         79.4           96.6\n",
       "Z 6        0.4           0.4         0.1         88.1           95.4\n",
       "Z 7        0.4           0.3         0.3         86.7           98.8\n",
       "Z 8        0.2           0.2         0.5         87.4           98.6\n",
       "Z 9        0.3           0.1         0.6         86.1           96.9"
      ]
     },
     "execution_count": 187,
     "metadata": {},
     "output_type": "execute_result"
    }
   ],
   "source": [
    "hstats  = HitterSummary(hx2, 'Max Dutto', 44,55, 60, 90)\n",
    "hstats"
   ]
  },
  {
   "cell_type": "code",
   "execution_count": 188,
   "metadata": {},
   "outputs": [
    {
     "data": {
      "text/html": [
       "<div>\n",
       "<style scoped>\n",
       "    .dataframe tbody tr th:only-of-type {\n",
       "        vertical-align: middle;\n",
       "    }\n",
       "\n",
       "    .dataframe tbody tr th {\n",
       "        vertical-align: top;\n",
       "    }\n",
       "\n",
       "    .dataframe thead th {\n",
       "        text-align: right;\n",
       "    }\n",
       "</style>\n",
       "<table border=\"1\" class=\"dataframe\">\n",
       "  <thead>\n",
       "    <tr style=\"text-align: right;\">\n",
       "      <th></th>\n",
       "      <th>Fly Balls</th>\n",
       "      <th>Ground Balls</th>\n",
       "      <th>Line Drive</th>\n",
       "      <th>AvgExitVelo</th>\n",
       "      <th>Max Exit Velo</th>\n",
       "    </tr>\n",
       "  </thead>\n",
       "  <tbody>\n",
       "    <tr>\n",
       "      <th>Z 1</th>\n",
       "      <td>0.0</td>\n",
       "      <td>0.0</td>\n",
       "      <td>0.0</td>\n",
       "      <td>0.0</td>\n",
       "      <td>0.0</td>\n",
       "    </tr>\n",
       "    <tr>\n",
       "      <th>Z 2</th>\n",
       "      <td>0.7</td>\n",
       "      <td>0.3</td>\n",
       "      <td>0.0</td>\n",
       "      <td>80.7</td>\n",
       "      <td>85.8</td>\n",
       "    </tr>\n",
       "    <tr>\n",
       "      <th>Z 3</th>\n",
       "      <td>0.0</td>\n",
       "      <td>0.0</td>\n",
       "      <td>0.0</td>\n",
       "      <td>0.0</td>\n",
       "      <td>0.0</td>\n",
       "    </tr>\n",
       "    <tr>\n",
       "      <th>Z 4</th>\n",
       "      <td>0.6</td>\n",
       "      <td>0.2</td>\n",
       "      <td>0.2</td>\n",
       "      <td>84.4</td>\n",
       "      <td>93.7</td>\n",
       "    </tr>\n",
       "    <tr>\n",
       "      <th>Z 5</th>\n",
       "      <td>0.6</td>\n",
       "      <td>0.0</td>\n",
       "      <td>0.4</td>\n",
       "      <td>79.4</td>\n",
       "      <td>96.6</td>\n",
       "    </tr>\n",
       "    <tr>\n",
       "      <th>Z 6</th>\n",
       "      <td>0.4</td>\n",
       "      <td>0.4</td>\n",
       "      <td>0.1</td>\n",
       "      <td>88.1</td>\n",
       "      <td>95.4</td>\n",
       "    </tr>\n",
       "    <tr>\n",
       "      <th>Z 7</th>\n",
       "      <td>0.4</td>\n",
       "      <td>0.3</td>\n",
       "      <td>0.3</td>\n",
       "      <td>86.7</td>\n",
       "      <td>98.8</td>\n",
       "    </tr>\n",
       "    <tr>\n",
       "      <th>Z 8</th>\n",
       "      <td>0.2</td>\n",
       "      <td>0.2</td>\n",
       "      <td>0.5</td>\n",
       "      <td>87.4</td>\n",
       "      <td>98.6</td>\n",
       "    </tr>\n",
       "    <tr>\n",
       "      <th>Z 9</th>\n",
       "      <td>0.3</td>\n",
       "      <td>0.1</td>\n",
       "      <td>0.6</td>\n",
       "      <td>86.1</td>\n",
       "      <td>96.9</td>\n",
       "    </tr>\n",
       "  </tbody>\n",
       "</table>\n",
       "</div>"
      ],
      "text/plain": [
       "     Fly Balls  Ground Balls  Line Drive  AvgExitVelo  Max Exit Velo\n",
       "Z 1        0.0           0.0         0.0          0.0            0.0\n",
       "Z 2        0.7           0.3         0.0         80.7           85.8\n",
       "Z 3        0.0           0.0         0.0          0.0            0.0\n",
       "Z 4        0.6           0.2         0.2         84.4           93.7\n",
       "Z 5        0.6           0.0         0.4         79.4           96.6\n",
       "Z 6        0.4           0.4         0.1         88.1           95.4\n",
       "Z 7        0.4           0.3         0.3         86.7           98.8\n",
       "Z 8        0.2           0.2         0.5         87.4           98.6\n",
       "Z 9        0.3           0.1         0.6         86.1           96.9"
      ]
     },
     "execution_count": 188,
     "metadata": {},
     "output_type": "execute_result"
    }
   ],
   "source": [
    "hstats"
   ]
  },
  {
   "cell_type": "code",
   "execution_count": null,
   "metadata": {},
   "outputs": [],
   "source": []
  }
 ],
 "metadata": {
  "kernelspec": {
   "display_name": "Python 3",
   "language": "python",
   "name": "python3"
  },
  "language_info": {
   "codemirror_mode": {
    "name": "ipython",
    "version": 3
   },
   "file_extension": ".py",
   "mimetype": "text/x-python",
   "name": "python",
   "nbconvert_exporter": "python",
   "pygments_lexer": "ipython3",
   "version": "3.6.4"
  }
 },
 "nbformat": 4,
 "nbformat_minor": 2
}
